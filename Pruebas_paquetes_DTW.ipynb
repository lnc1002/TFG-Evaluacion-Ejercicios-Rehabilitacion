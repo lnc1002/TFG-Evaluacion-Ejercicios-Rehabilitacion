{
 "cells": [
  {
   "cell_type": "markdown",
   "id": "e077be8a",
   "metadata": {},
   "source": [
    "# Deformación dinámica del tiempo"
   ]
  },
  {
   "cell_type": "markdown",
   "id": "71a15c05",
   "metadata": {},
   "source": [
    "DTW es un algoritmo que se caracteriza por medir la similitud entre dos secuencias.\n",
    "En este notebook se van a poner ejemplos de distintas bibliotecas que implementan DTW.\n",
    "1.  DTW suite proporciona el paquete <font color='blue'>dtw-python</font> de Python \n",
    "2.  La bibliotecas <font color='blue'>mlpy, pydtw</font>\n",
    "3.  La biblioteca <font color='blue'>simpledtw</font>\n",
    "4.  La biblioteca <font color='blue'>tslearn</font>"
   ]
  },
  {
   "cell_type": "markdown",
   "id": "7532f28c",
   "metadata": {},
   "source": [
    "Lo primero será crear unas series con las que trabajaremos a lo largo del proyecto. "
   ]
  },
  {
   "cell_type": "code",
   "execution_count": 51,
   "id": "a394b9c4",
   "metadata": {},
   "outputs": [],
   "source": [
    "import numpy as np\n",
    "\n",
    "serie1 = [0, 1, 2, 1, 4, 3, 3, 0]\n",
    "serie2 = [0, 2, 4, 3, 1, 2, 4, 0]\n",
    "\n",
    "timeseries = np.array([\n",
    "    [0.0, 0, 1, 2, 1, 0, 1, 0, 0],\n",
    "    [0.0, 1, 2, 0, 0, 0, 0, 0, 0],\n",
    "    [0.0, 0, 1, 2, 1, 0, 0, 0, 0]])\n",
    "\n",
    "serie1_2d = np.array([[0, 0], [0, 1], [2, 1], [0, 1], [0, 0]], dtype=np.double)\n",
    "serie2_2d = np.array([[0, 0], [2, 1], [0, 1], [0, .5], [0, 0]], dtype=np.double)\n",
    "\n",
    "serie1_4d = np.array([[0,0,0,0], [0,1,2,1], [2,0,1,1], [0,0,0,1], [0,1,2,0]], dtype=np.double)\n",
    "serie2_4d = np.array([[0,0,0,0], [2,1,2,2], [0,2,2,1], [0,.5,1,1], [0,1,2,0]], dtype=np.double)"
   ]
  },
  {
   "cell_type": "markdown",
   "id": "59c01451",
   "metadata": {},
   "source": [
    "### 1. Paquete dtw-python"
   ]
  },
  {
   "cell_type": "markdown",
   "id": "6d4b02f2",
   "metadata": {},
   "source": [
    "### 1.1 dtaidistance.dtw "
   ]
  },
  {
   "cell_type": "markdown",
   "id": "5eddade2",
   "metadata": {},
   "source": [
    "Esta es la implementación más completa sobre algoritmos de tipo DTW. En caso de no tener los paquetes instalados se deberá ejecutar la siguieten línea de código: <font color='blue'>pip install dtw-python</font>"
   ]
  },
  {
   "cell_type": "markdown",
   "id": "10964c31",
   "metadata": {},
   "source": [
    "1. <font color='blue'> warping_paths </font> Calcula la ruta de deformación entre dos secuencias\n",
    "2. <font color='blue'> best_path </font> Calcula la ruta óptima. Los parámetros de fila y columna son opcionales pero si se especifican indicarán desde que fila o columna se ha de empezar \n",
    "3. <font color='blue'> distance </font> Obtiene únicamente la distancia entre ambas series, se le pueden añadir parámetros para hacer que se detenga en caso de encontrar un valor demasiado grande y tmabién se pueden aladir penalizaciones \n",
    "4. <font color='blue'> ub_euclidean </font> Retorna la distancia euclidea\n",
    "5. <font color='blue'> warping_path_penalty </font> Calcula la ruta de deformación entre dos secuencias y admite hasta dos sanciones diferentes, la penalización tradicional de DTW y una segunda penalización 'penalty_post' que mide la cantidad de deformación\n",
    "6. <font color='blue'> warping_paths_affinity </font> Devuelve la distancia y la matriz DTW utilizando una matriz de afinidad/similitud en lugar de una matriz de ditancias\n",
    "7. <font color='blue'> distance_matrix, distance_matrix_fast </font> Devuelve la matriz de distancias para todas las secuencias que se le pasen como argumento"
   ]
  },
  {
   "cell_type": "code",
   "execution_count": 28,
   "id": "c3ef82f2",
   "metadata": {},
   "outputs": [
    {
     "name": "stdout",
     "output_type": "stream",
     "text": [
      "Distancia:  2.8284271247461903\n",
      "[[0.      inf   inf   inf   inf   inf   inf   inf   inf]\n",
      " [  inf 0.    2.    4.472 5.385 5.477 5.831 7.071 7.071]\n",
      " [  inf 1.    1.    3.162 3.742 3.742 3.873 4.899 5.   ]\n",
      " [  inf 2.236 1.    2.236 2.449 2.646 2.646 3.317 3.873]\n",
      " [  inf 2.449 1.414 3.162 3.    2.449 2.646 4.    3.464]\n",
      " [  inf 4.69  2.449 1.414 1.732 3.464 3.162 2.646 4.796]\n",
      " [  inf 5.568 2.646 1.732 1.414 2.449 2.646 2.828 4.   ]\n",
      " [  inf 6.325 2.828 2.    1.414 2.449 2.646 2.828 4.123]\n",
      " [  inf 6.325 3.464 4.472 3.317 1.732 2.646 4.796 2.828]]\n"
     ]
    }
   ],
   "source": [
    "from dtaidistance import dtw\n",
    "\n",
    "distance, paths = dtw.warping_paths(serie1, serie2) \n",
    "print('Distancia: ',distance)\n",
    "np.set_printoptions(precision=3)\n",
    "print(paths)"
   ]
  },
  {
   "cell_type": "code",
   "execution_count": 32,
   "id": "80218d51",
   "metadata": {},
   "outputs": [
    {
     "name": "stdout",
     "output_type": "stream",
     "text": [
      "Ruta óptima a partir de la fila 3, columna 3:  [(0, 0), (1, 1), (2, 2)]\n"
     ]
    }
   ],
   "source": [
    "best_path = dtw.best_path(paths,row=3, col=3)\n",
    "print('Ruta óptima a partir de la fila 3, columna 3: ',best_path)"
   ]
  },
  {
   "cell_type": "code",
   "execution_count": 33,
   "id": "e35917b5",
   "metadata": {},
   "outputs": [
    {
     "name": "stdout",
     "output_type": "stream",
     "text": [
      "La distancia euclídea es:  4.47213595499958\n"
     ]
    }
   ],
   "source": [
    "euclidean_distance = dtw.ub_euclidean(serie1, serie2) \n",
    "print('La distancia euclídea es: ', euclidean_distance)"
   ]
  },
  {
   "cell_type": "code",
   "execution_count": 35,
   "id": "bf04aa90",
   "metadata": {},
   "outputs": [
    {
     "name": "stdout",
     "output_type": "stream",
     "text": [
      "Distancia:  2.8284271247461903\n",
      "Ruta óptima:  [(0, 0), (1, 0), (2, 1), (3, 1), (4, 2), (5, 3), (5, 4), (5, 5), (6, 6), (7, 7)]\n",
      "Distancia DTW entre 2 elementos de la ruta:  [1.0, 0.0, 0.41421356237309515, 0.0, 0.0, 1.0352761804100827, 0.19626156828141283, 0.18267581368159957, 0.0]\n"
     ]
    }
   ],
   "source": [
    "#Sin penalización\n",
    "distance, best_path, distance_between_2_elements, paths= dtw.warping_path_penalty(serie1,serie2,penalty_post=0)\n",
    "print('Distancia: ',distance)\n",
    "print('Ruta óptima: ',best_path)\n",
    "print('Distancia DTW entre 2 elementos de la ruta: ',distance_between_2_elements)"
   ]
  },
  {
   "cell_type": "code",
   "execution_count": 36,
   "id": "73b7cbb2",
   "metadata": {},
   "outputs": [
    {
     "name": "stdout",
     "output_type": "stream",
     "text": [
      "Distancia:  10.82842712474619\n",
      "Ruta óptima:  [(0, 0), (1, 0), (2, 1), (3, 1), (4, 2), (5, 3), (5, 4), (5, 5), (6, 6), (7, 7)]\n",
      "Distancia DTW entre 2 elementos de la ruta:  [1.0, 0.0, 0.41421356237309515, 0.0, 0.0, 1.0352761804100827, 0.19626156828141283, 0.18267581368159957, 0.0]\n"
     ]
    }
   ],
   "source": [
    "#Con penalización \n",
    "distance, best_path, distance_between_2_elements, paths= dtw.warping_path_penalty(serie1, serie2, penalty_post=2)\n",
    "print('Distancia: ',distance)\n",
    "print('Ruta óptima: ',best_path)\n",
    "print('Distancia DTW entre 2 elementos de la ruta: ',distance_between_2_elements)\n",
    "\n",
    "#Se observa que los caminos son los mismos, cambia la distancia, a más penalización, mayor valor "
   ]
  },
  {
   "cell_type": "code",
   "execution_count": 37,
   "id": "a5dc8872",
   "metadata": {},
   "outputs": [
    {
     "name": "stdout",
     "output_type": "stream",
     "text": [
      "Distancia:  8.24403133461021\n",
      "[[0.     -inf  -inf  -inf  -inf  -inf  -inf  -inf  -inf]\n",
      " [ -inf 1.    1.018 1.018 1.018 1.386 1.405 1.405 2.405]\n",
      " [ -inf 1.368 1.736 1.736 1.754 2.754 3.122 3.122 3.49 ]\n",
      " [ -inf 1.386 2.736 2.754 3.122 3.49  4.49  4.508 4.526]\n",
      " [ -inf 1.754 3.104 3.104 3.14  4.49  4.858 4.858 5.226]\n",
      " [ -inf 1.754 3.122 4.122 4.49  4.49  4.876 5.876 5.876]\n",
      " [ -inf 1.754 3.49  4.49  5.49  5.508 5.876 6.244 6.244]\n",
      " [ -inf 1.754 3.858 4.858 6.49  6.508 6.876 7.244 7.244]\n",
      " [ -inf 2.754 3.876 4.858 6.49  6.876 6.894 7.244 8.244]]\n"
     ]
    }
   ],
   "source": [
    "distance, paths = dtw.warping_paths_affinity(serie1, serie2)\n",
    "print('Distancia: ',distance)\n",
    "np.set_printoptions(precision=3)\n",
    "print(paths)"
   ]
  },
  {
   "cell_type": "markdown",
   "id": "81d43319",
   "metadata": {},
   "source": [
    "En la siguiente celda se va a calcular la matriz de distancias para todas las secuencias en timeseries. Los parámetros añadidos en la segunda línea son:\n",
    "1. <font color='blue'> use_mp </font> Fuerza el uso de multiprocesamiento para operaciones paralelas\n",
    "2. <font color='blue'> only_triu </font> Calcula únicamente la matriz triangular superior"
   ]
  },
  {
   "cell_type": "code",
   "execution_count": 43,
   "id": "2accfae3",
   "metadata": {},
   "outputs": [
    {
     "name": "stdout",
     "output_type": "stream",
     "text": [
      "Matriz de distancias:  [[0.    1.414 1.   ]\n",
      " [1.414 0.    1.   ]\n",
      " [1.    1.    0.   ]]\n",
      "Matriz de distancias triangular superior:  [[  inf 1.414 1.   ]\n",
      " [  inf   inf 1.   ]\n",
      " [  inf   inf   inf]]\n"
     ]
    }
   ],
   "source": [
    "paths1 = dtw.distance_matrix(timeseries)\n",
    "paths2 = dtw.distance_matrix_fast(timeseries,use_mp=True,only_triu=True)\n",
    "print('Matriz de distancias: ',paths1)\n",
    "print('Matriz de distancias triangular superior: ',paths2)"
   ]
  },
  {
   "cell_type": "markdown",
   "id": "d7cb0e38",
   "metadata": {},
   "source": [
    "### 1.2 dtaidistance.dtw_ndim"
   ]
  },
  {
   "cell_type": "markdown",
   "id": "4dcbde40",
   "metadata": {},
   "source": [
    "Con este nuevo paquete lo que se va a lograr es compara series multidimensionales"
   ]
  },
  {
   "cell_type": "code",
   "execution_count": 50,
   "id": "439d1bff",
   "metadata": {},
   "outputs": [
    {
     "name": "stdout",
     "output_type": "stream",
     "text": [
      "Distancia:  1.118033988749895\n",
      "Distancia euclídea:  2.8722813232690143\n"
     ]
    }
   ],
   "source": [
    "from dtaidistance import dtw_ndim\n",
    "\n",
    "distance = dtw_ndim.distance(serie1_2d, serie2_2d)\n",
    "euclidean_distance = dtw_ndim.ub_euclidean(serie1_2d, serie2_2d)\n",
    "print('Distancia: ',distance)\n",
    "print('Distancia euclídea: ',euclidean_distance)"
   ]
  },
  {
   "cell_type": "code",
   "execution_count": 52,
   "id": "4bb1ed18",
   "metadata": {},
   "outputs": [
    {
     "name": "stdout",
     "output_type": "stream",
     "text": [
      "Distancia:  3.391164991562634\n",
      "Distancia euclídea:  3.905124837953327\n"
     ]
    }
   ],
   "source": [
    "distance = dtw_ndim.distance(serie1_4d, serie2_4d)\n",
    "euclidean_distance = dtw_ndim.ub_euclidean(serie1_4d, serie2_4d)\n",
    "print('Distancia: ',distance)\n",
    "print('Distancia euclídea: ',euclidean_distance)"
   ]
  },
  {
   "cell_type": "code",
   "execution_count": 49,
   "id": "7936bf72",
   "metadata": {},
   "outputs": [
    {
     "data": {
      "text/plain": [
       "array([[0.   , 1.414, 1.   ],\n",
       "       [1.414, 0.   , 1.   ],\n",
       "       [1.   , 1.   , 0.   ]])"
      ]
     },
     "execution_count": 49,
     "metadata": {},
     "output_type": "execute_result"
    }
   ],
   "source": [
    "#Matriz de distancia para todas las secuencias n-dimensionales en timeseries.\n",
    "dtw_ndim.distance_matrix(timeseries,3) #El argumento ndim es obligatorio"
   ]
  },
  {
   "cell_type": "markdown",
   "id": "1ffb303d",
   "metadata": {},
   "source": [
    "### 1.3 dtaidistance.dtw_visualisation"
   ]
  },
  {
   "cell_type": "markdown",
   "id": "d1b599fe",
   "metadata": {},
   "source": [
    "Con este paquete se van a poder visualizar los resultados obtenidos en los pasos anteriores.\n",
    "1. <font color='blue'> plot_warping </font> Traza la deformación optima entre dos secuencias "
   ]
  },
  {
   "cell_type": "code",
   "execution_count": 53,
   "id": "d9622dbd",
   "metadata": {},
   "outputs": [
    {
     "name": "stdout",
     "output_type": "stream",
     "text": [
      "[(0, 0), (1, 0), (2, 1), (3, 1), (4, 2), (5, 3), (5, 4), (5, 5), (6, 6), (7, 7)]\n"
     ]
    },
    {
     "data": {
      "image/png": "[encoded data removed]",
      "text/plain": [
       "<Figure size 432x288 with 2 Axes>"
      ]
     },
     "metadata": {
      "needs_background": "light"
     },
     "output_type": "display_data"
    }
   ],
   "source": [
    "from dtaidistance import dtw_visualisation\n",
    "\n",
    "path = dtw.warping_path(serie1, serie2)\n",
    "dtw_visualisation.plot_warping(serie1, serie2, path)\n",
    "\n",
    "print(path)"
   ]
  },
  {
   "cell_type": "markdown",
   "id": "e96803e3",
   "metadata": {},
   "source": [
    "### 1.4 dtaidistance.ed"
   ]
  },
  {
   "cell_type": "markdown",
   "id": "1469abc9",
   "metadata": {},
   "source": [
    "Calcula la distancia euclidiana entre dos secuencias, además soporta diferentes longitudes."
   ]
  },
  {
   "cell_type": "code",
   "execution_count": 58,
   "id": "2cacd932",
   "metadata": {},
   "outputs": [
    {
     "data": {
      "text/plain": [
       "9.327379053088816"
      ]
     },
     "execution_count": 58,
     "metadata": {},
     "output_type": "execute_result"
    }
   ],
   "source": [
    "from dtaidistance import ed\n",
    "\n",
    "s11=[0,1,2,3,3,4,5,6,1,3,4,0]\n",
    "s22=[0,1,2,3,3,4,0]\n",
    "\n",
    "ed.distance(s11, s22)"
   ]
  },
  {
   "cell_type": "markdown",
   "id": "a74e46f3",
   "metadata": {},
   "source": [
    "### 2. Paquetes mply pydtw"
   ]
  },
  {
   "cell_type": "markdown",
   "id": "798d5088",
   "metadata": {},
   "source": [
    "En caso de no tener los paquetes instalados se deberá ejecutar la siguieten línea de código: <font color='blue'>pip install pydtw</font>\n"
   ]
  },
  {
   "cell_type": "code",
   "execution_count": 69,
   "id": "dc9a579e",
   "metadata": {},
   "outputs": [
    {
     "name": "stdout",
     "output_type": "stream",
     "text": [
      "El coste es:  13.0\n",
      "Las alineaciones son:\n",
      "[0, 0, 1, 2, 3, 4, 4, 4, 5, 6]\n",
      "[0, 0, 1, 1, 1, 2, 3, 4, 5, 6]\n"
     ]
    }
   ],
   "source": [
    "from pydtw import dtw1d #Para series con una dimensión\n",
    "\n",
    "serie1=np.array(serie1, dtype=np.double)\n",
    "serie2=np.array(serie2, dtype=np.double)\n",
    "\n",
    "cost_matrix, cost, alignmend_a, alignmend_b = dtw1d(serie1,serie2)\n",
    "print('El coste es: ',cost)\n",
    "print('Las alineaciones son:')\n",
    "print(alignmend_a)\n",
    "print(alignmend_b)"
   ]
  },
  {
   "cell_type": "code",
   "execution_count": 70,
   "id": "6cdc8090",
   "metadata": {},
   "outputs": [
    {
     "name": "stdout",
     "output_type": "stream",
     "text": [
      "El coste es:  inf\n",
      "Las alineaciones son:\n",
      "[0, 1, 2, 3, 3, 4]\n",
      "[0, 0, 1, 2, 3, 4]\n"
     ]
    }
   ],
   "source": [
    "from pydtw import dtw2d #Para series con dos dimensiones\n",
    "\n",
    "cost_matrix, cost, alignmend_a, alignmend_b = dtw2d(serie1_2d,serie2_2d)\n",
    "print('El coste es: ',cost)\n",
    "print('Las alineaciones son:')\n",
    "print(alignmend_a)\n",
    "print(alignmend_b)"
   ]
  },
  {
   "cell_type": "markdown",
   "id": "dc72b646",
   "metadata": {},
   "source": [
    "### 3. Biblioteca simpledtw"
   ]
  },
  {
   "cell_type": "markdown",
   "id": "3009068f",
   "metadata": {},
   "source": [
    "Para poder utilizar esta biblioteca se ha tenido que descargar un archivo <font color='blue'>simpledtw.py</font> y adjuntarlo en el directorio sobre el que se esta ejecutando este proyecto.\n",
    "\n",
    "\n",
    "Esta biblioteca permite calcular la distancia DTW en series escalares o de vectores y depende de NumPy."
   ]
  },
  {
   "cell_type": "code",
   "execution_count": 85,
   "id": "4631d9dd",
   "metadata": {},
   "outputs": [
    {
     "name": "stdout",
     "output_type": "stream",
     "text": [
      "La ruta es:  [(0, 0), (1, 1), (2, 2), (2, 3), (3, 4), (3, 5), (4, 6), (5, 6), (6, 7)]\n",
      "El coste es:  6.0\n",
      "[[0], [1], [2, 3], [4, 5], [6], [6], [7]]\n",
      "[[0], [1], [2], [2], [3], [3], [4, 5], [6]]\n",
      "Matriz de costes:  [[ 0.  2.  6.  9. 10. 12. 16. 16.]\n",
      " [ 1.  1.  4.  6.  6.  7. 10. 11.]\n",
      " [ 3.  1.  3.  4.  5.  5.  7.  9.]\n",
      " [ 4.  2.  4.  5.  4.  5.  8.  8.]\n",
      " [ 8.  4.  2.  3.  6.  6.  5.  9.]\n",
      " [11.  5.  3.  2.  4.  5.  6.  8.]\n",
      " [11.  7.  7.  5.  3.  5.  9.  6.]]\n"
     ]
    }
   ],
   "source": [
    "import simpledtw \n",
    "\n",
    "path, cost, mapping_1, mapping_2, matriz_costes = simpledtw.dtw(serie1, serie2)\n",
    "print('La ruta es: ',matches)\n",
    "print('El coste es: ',cost)\n",
    "print(mapping_1)\n",
    "print(mapping_2)\n",
    "print('Matriz de costes: ',matriz_costes)"
   ]
  },
  {
   "cell_type": "markdown",
   "id": "f6a4c28a",
   "metadata": {},
   "source": [
    "Como se puede observar, el coste es el mayor encontrado en la ruta de costes, es decir, el último. Si nos fijamos en la matriz, los costes para cada parte del camino son los siguientes:\n",
    "1. (0,0) coste 0\n",
    "2. (1,1) coste 1\n",
    "3. (2,2) coste 3\n",
    "4. (2,3) coste 4\n",
    "5. (3,4) coste 4\n",
    "6. (3,5) coste 5\n",
    "7. (4,6) coste 5\n",
    "8. (5,6) coste 6\n",
    "9. (6,7) coste 6 \n"
   ]
  },
  {
   "cell_type": "code",
   "execution_count": 86,
   "id": "de366a49",
   "metadata": {},
   "outputs": [
    {
     "data": {
      "text/plain": [
       "(<Figure size 432x288 with 2 Axes>,\n",
       " array([<AxesSubplot:>, <AxesSubplot:>], dtype=object))"
      ]
     },
     "execution_count": 86,
     "metadata": {},
     "output_type": "execute_result"
    },
    {
     "data": {
      "image/png": "[encoded data removed]",
      "text/plain": [
       "<Figure size 432x288 with 2 Axes>"
      ]
     },
     "metadata": {
      "needs_background": "light"
     },
     "output_type": "display_data"
    }
   ],
   "source": [
    "dtw_visualisation.plot_warping(serie1, serie2, path)"
   ]
  },
  {
   "cell_type": "markdown",
   "id": "40c1f353",
   "metadata": {},
   "source": [
    "### 4. Biblioteca tslearn"
   ]
  },
  {
   "cell_type": "markdown",
   "id": "207b3516",
   "metadata": {},
   "source": [
    "En caso de no tener los paquetes instalados se deberá ejecutar la siguieten línea de código: <font color='blue'>pip install tslearn</font>.\n",
    "\n",
    "1. <font color='blue'>dtw</font> Devuelve la distancia\n",
    "    -  Con el parámetro <font color='blue'>sakoe_chiba_radius</font> se indica un radio, este número corresponderá con el número de elementos a considerar fuera de la diagonal \n",
    "    - Con el parámetro <font color='blue'>itakura_max_slope</font> se produce una restricción en forma de paralelogramo\n",
    "2. <font color='blue'>dtw_path</font> Devuelve la distancias y la ruta óptima \n",
    "3. <font color='blue'>dtw_path_from_metric</font> Devuelve la ruta optima y el coste total\n",
    "4. <font color='blue'>dtw_limited_warping_length</font> Establece un límite superior en la longitud de la trayectoria de deformación para descartar caminos complejos \n",
    "5. <font color='blue'>soft_dtw</font> Controla el suavizado de la media resultante."
   ]
  },
  {
   "cell_type": "code",
   "execution_count": 91,
   "id": "d8548793",
   "metadata": {},
   "outputs": [
    {
     "name": "stdout",
     "output_type": "stream",
     "text": [
      "La distancia es:  2.8284271247461903\n"
     ]
    }
   ],
   "source": [
    "from tslearn.metrics import dtw, dtw_path\n",
    "\n",
    "distance=dtw(serie1, serie2)\n",
    "print('La distancia es: ',distance)"
   ]
  },
  {
   "cell_type": "code",
   "execution_count": 96,
   "id": "06192c6c",
   "metadata": {},
   "outputs": [
    {
     "name": "stdout",
     "output_type": "stream",
     "text": [
      "La ruta óptima es:  [(0, 0), (1, 1), (2, 2), (2, 3), (3, 4), (3, 5), (4, 6), (5, 6), (6, 7)]\n",
      "La distancia es:  2.8284271247461903\n"
     ]
    }
   ],
   "source": [
    "optimal_path, distance = dtw_path(serie1, serie2)\n",
    "print('La ruta óptima es: ',optimal_path)\n",
    "print('La distancia es: ',distance)"
   ]
  },
  {
   "cell_type": "code",
   "execution_count": 97,
   "id": "34577265",
   "metadata": {},
   "outputs": [
    {
     "name": "stdout",
     "output_type": "stream",
     "text": [
      "La ruta óptima es:  [(0, 0), (1, 1), (2, 2), (2, 3), (3, 4), (3, 5), (4, 6), (5, 6), (6, 7)]\n",
      "El coste total es:  6.0\n"
     ]
    }
   ],
   "source": [
    "from tslearn.metrics import dtw_path_from_metric\n",
    "\n",
    "optimal_path, cost = dtw_path_from_metric(serie1, serie2)\n",
    "print('La ruta óptima es: ',optimal_path)\n",
    "print('El coste total es: ',cost)"
   ]
  },
  {
   "cell_type": "code",
   "execution_count": 102,
   "id": "ca66b629",
   "metadata": {},
   "outputs": [
    {
     "name": "stdout",
     "output_type": "stream",
     "text": [
      "3.3166247903554\n"
     ]
    }
   ],
   "source": [
    "cost = dtw(serie1, serie2, global_constraint=\"sakoe_chiba\", sakoe_chiba_radius=0.5)\n",
    "print(cost)"
   ]
  },
  {
   "cell_type": "code",
   "execution_count": 14,
   "id": "1dee1a1f",
   "metadata": {},
   "outputs": [
    {
     "name": "stdout",
     "output_type": "stream",
     "text": [
      "1.7176146249959565\n"
     ]
    }
   ],
   "source": [
    "cost = dtw(series_1, series_2, global_constraint=\"itakura\", itakura_max_slope=2.)\n",
    "print(cost)"
   ]
  },
  {
   "cell_type": "code",
   "execution_count": 111,
   "id": "5d6c7223",
   "metadata": {},
   "outputs": [
    {
     "name": "stdout",
     "output_type": "stream",
     "text": [
      "Distancia con un límite superior de 8:  3.3166247903554\n",
      "Distancia con un límite superior de 10:  2.8284271247461903\n"
     ]
    }
   ],
   "source": [
    "from tslearn.metrics import dtw_limited_warping_length\n",
    "\n",
    "distance1 = dtw_limited_warping_length(serie1, serie2, 8)\n",
    "print('Distancia con un límite superior de 8: ',distance1)\n",
    "\n",
    "distance2 = dtw_limited_warping_length(serie1, serie2, 10)\n",
    "print('Distancia con un límite superior de 10: ',distance2)"
   ]
  },
  {
   "cell_type": "code",
   "execution_count": 118,
   "id": "7bb47629",
   "metadata": {},
   "outputs": [
    {
     "name": "stdout",
     "output_type": "stream",
     "text": [
      "6.983484831215426\n"
     ]
    }
   ],
   "source": [
    "from tslearn.metrics import soft_dtw\n",
    "\n",
    "soft_dtw_score = soft_dtw(serie1, serie2, gamma=0.5)\n",
    "print(soft_dtw_score)"
   ]
  },
  {
   "cell_type": "markdown",
   "id": "c20f89de",
   "metadata": {},
   "source": [
    "### Bibliografía"
   ]
  },
  {
   "cell_type": "markdown",
   "id": "7baa7900",
   "metadata": {},
   "source": [
    "http://librosa.org/doc/main/auto_examples/plot_music_sync.html\n",
    "\n",
    "https://stackoverflow.com/questions/44994866/efficient-pairwise-dtw-calculation-using-numpy-or-cython\n",
    "\n",
    "https://eclass.aueb.gr/modules/document/file.php/INF403/Code%26Data/TimeSeriesDTW.html\n",
    "\n",
    "https://github.com/talcs/simpledtw\n",
    "\n",
    "https://tslearn.readthedocs.io/en/stable/user_guide/dtw.html#dtw\n",
    "\n",
    "https://github.com/halachkin/cdtw/blob/master/cdtw/examples.ipynb\n"
   ]
  },
  {
   "cell_type": "code",
   "execution_count": null,
   "id": "957f2ce2",
   "metadata": {},
   "outputs": [],
   "source": []
  }
 ],
 "metadata": {
  "kernelspec": {
   "display_name": "Python 3",
   "language": "python",
   "name": "python3"
  },
  "language_info": {
   "codemirror_mode": {
    "name": "ipython",
    "version": 3
   },
   "file_extension": ".py",
   "mimetype": "text/x-python",
   "name": "python",
   "nbconvert_exporter": "python",
   "pygments_lexer": "ipython3",
   "version": "3.8.8"
  }
 },
 "nbformat": 4,
 "nbformat_minor": 5
}
